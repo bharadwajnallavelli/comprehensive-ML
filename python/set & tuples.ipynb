{
 "cells": [
  {
   "cell_type": "code",
   "execution_count": 2,
   "id": "4f06985b",
   "metadata": {},
   "outputs": [],
   "source": [
    "# set is a collection of data which contains only unique elements\n",
    "# creating a set\n",
    "emp_ids = {2342,2345,2346,2347,2348,2349}"
   ]
  },
  {
   "cell_type": "code",
   "execution_count": 3,
   "id": "e9476124",
   "metadata": {},
   "outputs": [
    {
     "data": {
      "text/plain": [
       "{2342, 2345, 2346, 2347, 2348, 2349}"
      ]
     },
     "execution_count": 3,
     "metadata": {},
     "output_type": "execute_result"
    }
   ],
   "source": [
    "emp_ids"
   ]
  },
  {
   "cell_type": "code",
   "execution_count": 5,
   "id": "08145dc9",
   "metadata": {},
   "outputs": [],
   "source": [
    "mixed_data = {2342,'hi',12.34}"
   ]
  },
  {
   "cell_type": "code",
   "execution_count": 6,
   "id": "c03f3a48",
   "metadata": {},
   "outputs": [
    {
     "data": {
      "text/plain": [
       "{12.34, 2342, 'hi'}"
      ]
     },
     "execution_count": 6,
     "metadata": {},
     "output_type": "execute_result"
    }
   ],
   "source": [
    "mixed_data"
   ]
  },
  {
   "cell_type": "code",
   "execution_count": null,
   "id": "bce0a93d",
   "metadata": {},
   "outputs": [],
   "source": []
  }
 ],
 "metadata": {
  "kernelspec": {
   "display_name": "Python 3 (ipykernel)",
   "language": "python",
   "name": "python3"
  },
  "language_info": {
   "codemirror_mode": {
    "name": "ipython",
    "version": 3
   },
   "file_extension": ".py",
   "mimetype": "text/x-python",
   "name": "python",
   "nbconvert_exporter": "python",
   "pygments_lexer": "ipython3",
   "version": "3.11.5"
  }
 },
 "nbformat": 4,
 "nbformat_minor": 5
}
