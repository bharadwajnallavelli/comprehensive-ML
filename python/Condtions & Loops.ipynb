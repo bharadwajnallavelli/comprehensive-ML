{
 "cells": [
  {
   "cell_type": "markdown",
   "id": "793ea27f",
   "metadata": {},
   "source": [
    "## If else"
   ]
  },
  {
   "cell_type": "code",
   "execution_count": 1,
   "id": "1748a424",
   "metadata": {},
   "outputs": [
    {
     "name": "stdout",
     "output_type": "stream",
     "text": [
      "a:10 is less than b:20\n"
     ]
    }
   ],
   "source": [
    "# If else condition\n",
    "# To run a certain block of code when certain condition is met\n",
    "a = 10\n",
    "b = 20\n",
    "if a < b:\n",
    "    print(f\"a:{a} is less than b:{b}\")\n",
    "else:\n",
    "    print(f\"a:{a} is greater than b:{b}\")"
   ]
  },
  {
   "cell_type": "code",
   "execution_count": 2,
   "id": "130e244e",
   "metadata": {},
   "outputs": [
    {
     "name": "stdout",
     "output_type": "stream",
     "text": [
      "a:10 is equal b:10\n"
     ]
    }
   ],
   "source": [
    "# what if a is equal to b in the above example then elif comes into picture to verify any of multiple conditions\n",
    "a = 10\n",
    "b = 10\n",
    "if a < b:\n",
    "    print(f\"a:{a} is less than b:{b}\")\n",
    "elif a == b:\n",
    "    print(f\"a:{a} is equal b:{b}\")\n",
    "else:\n",
    "    print(f\"a:{a} is greater than b:{b}\")"
   ]
  },
  {
   "cell_type": "markdown",
   "id": "307e65fa",
   "metadata": {},
   "source": [
    "## For loop"
   ]
  },
  {
   "cell_type": "code",
   "execution_count": 3,
   "id": "b59de489",
   "metadata": {},
   "outputs": [
    {
     "name": "stdout",
     "output_type": "stream",
     "text": [
      "Hello\n",
      "Hello\n",
      "Hello\n",
      "Hello\n",
      "Hello\n",
      "Hello\n",
      "Hello\n",
      "Hello\n",
      "Hello\n",
      "Hello\n"
     ]
    }
   ],
   "source": [
    "# Loops are used to iterate over the block of code\n",
    "for i in range(10):\n",
    "    print(\"Hello\")"
   ]
  },
  {
   "cell_type": "code",
   "execution_count": 4,
   "id": "9ec76dc2",
   "metadata": {},
   "outputs": [
    {
     "name": "stdout",
     "output_type": "stream",
     "text": [
      "20\n",
      "30\n",
      "40\n",
      "50\n",
      "60\n",
      "70\n"
     ]
    }
   ],
   "source": [
    "# Add sum of 10 to each number in list, we can easily do it by using for loop\n",
    "a = [10,20,30,40,50,60]\n",
    "for i in a:\n",
    "    print(i + 10)"
   ]
  },
  {
   "cell_type": "markdown",
   "id": "057b935a",
   "metadata": {},
   "source": [
    "## While loop"
   ]
  },
  {
   "cell_type": "code",
   "execution_count": 5,
   "id": "0cff0c87",
   "metadata": {},
   "outputs": [
    {
     "name": "stdout",
     "output_type": "stream",
     "text": [
      "i is 10\n",
      "i is 11\n",
      "i is 12\n",
      "i is 13\n",
      "i is 14\n",
      "i is 15\n",
      "i is 16\n",
      "i is 17\n",
      "i is 18\n",
      "i is 19\n",
      "i is 20\n"
     ]
    }
   ],
   "source": [
    "# Similar to for loop but when certain condition is met the loop is performed\n",
    "i = 10\n",
    "while i <= 20:\n",
    "    print(f\"i is {i}\")\n",
    "    i += 1"
   ]
  },
  {
   "cell_type": "code",
   "execution_count": null,
   "id": "0896b1b8",
   "metadata": {},
   "outputs": [],
   "source": []
  }
 ],
 "metadata": {
  "kernelspec": {
   "display_name": "Python 3 (ipykernel)",
   "language": "python",
   "name": "python3"
  },
  "language_info": {
   "codemirror_mode": {
    "name": "ipython",
    "version": 3
   },
   "file_extension": ".py",
   "mimetype": "text/x-python",
   "name": "python",
   "nbconvert_exporter": "python",
   "pygments_lexer": "ipython3",
   "version": "3.10.9"
  }
 },
 "nbformat": 4,
 "nbformat_minor": 5
}
