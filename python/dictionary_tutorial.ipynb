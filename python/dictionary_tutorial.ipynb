{
 "cells": [
  {
   "cell_type": "code",
   "execution_count": 1,
   "id": "0016208b",
   "metadata": {},
   "outputs": [],
   "source": [
    "# dictionary is a collection to store that allows us to store data in key-value pairs"
   ]
  },
  {
   "cell_type": "code",
   "execution_count": 2,
   "id": "4c2ed64e",
   "metadata": {},
   "outputs": [],
   "source": [
    "user1_details = {\n",
    "    \"name\": \"user1\",\n",
    "    \"age\": 25,\n",
    "    \"email\": \"user1@mail.com\"\n",
    "}"
   ]
  },
  {
   "cell_type": "code",
   "execution_count": 3,
   "id": "6ccb18d3",
   "metadata": {},
   "outputs": [
    {
     "data": {
      "text/plain": [
       "{'name': 'user1', 'age': 25, 'email': 'user1@mail.com'}"
      ]
     },
     "execution_count": 3,
     "metadata": {},
     "output_type": "execute_result"
    }
   ],
   "source": [
    "user1_details"
   ]
  },
  {
   "cell_type": "code",
   "execution_count": 5,
   "id": "44f5ebea",
   "metadata": {},
   "outputs": [],
   "source": [
    "# dictionary keys must contain immutable objects\n",
    "my_dict = {\n",
    "  1: \"Hello World!\", \n",
    "  (1, 2): \"Hello Python\",\n",
    "    \"language\": \"high level\"\n",
    "}"
   ]
  },
  {
   "cell_type": "code",
   "execution_count": 6,
   "id": "cfd8511e",
   "metadata": {},
   "outputs": [
    {
     "data": {
      "text/plain": [
       "{1: 'Hello World!', (1, 2): 'Hello Python', 'language': 'high level'}"
      ]
     },
     "execution_count": 6,
     "metadata": {},
     "output_type": "execute_result"
    }
   ],
   "source": [
    "my_dict"
   ]
  },
  {
   "cell_type": "code",
   "execution_count": 7,
   "id": "a67d219e",
   "metadata": {},
   "outputs": [
    {
     "data": {
      "text/plain": [
       "3"
      ]
     },
     "execution_count": 7,
     "metadata": {},
     "output_type": "execute_result"
    }
   ],
   "source": [
    "# to identify length of dictionary use len\n",
    "len(user1_details)"
   ]
  },
  {
   "cell_type": "code",
   "execution_count": 8,
   "id": "705eba08",
   "metadata": {},
   "outputs": [
    {
     "data": {
      "text/plain": [
       "'user1'"
      ]
     },
     "execution_count": 8,
     "metadata": {},
     "output_type": "execute_result"
    }
   ],
   "source": [
    "# To access dictionary items, use key name\n",
    "user1_details['name']"
   ]
  },
  {
   "cell_type": "code",
   "execution_count": 9,
   "id": "c410f3bf",
   "metadata": {},
   "outputs": [],
   "source": [
    "# dictionary items are immutable\n",
    "user1_details['name'] = 'updated_name'"
   ]
  },
  {
   "cell_type": "code",
   "execution_count": 10,
   "id": "4f71f8f9",
   "metadata": {},
   "outputs": [
    {
     "data": {
      "text/plain": [
       "{'name': 'updated_name', 'age': 25, 'email': 'user1@mail.com'}"
      ]
     },
     "execution_count": 10,
     "metadata": {},
     "output_type": "execute_result"
    }
   ],
   "source": [
    "user1_details"
   ]
  },
  {
   "cell_type": "code",
   "execution_count": 11,
   "id": "8e628405",
   "metadata": {},
   "outputs": [],
   "source": [
    "# We can add new item to the dictionary\n",
    "user1_details['country'] = 'USA'"
   ]
  },
  {
   "cell_type": "code",
   "execution_count": 12,
   "id": "1627d9cd",
   "metadata": {},
   "outputs": [
    {
     "data": {
      "text/plain": [
       "{'name': 'updated_name',\n",
       " 'age': 25,\n",
       " 'email': 'user1@mail.com',\n",
       " 'country': 'USA'}"
      ]
     },
     "execution_count": 12,
     "metadata": {},
     "output_type": "execute_result"
    }
   ],
   "source": [
    "user1_details"
   ]
  },
  {
   "cell_type": "code",
   "execution_count": 13,
   "id": "794fa283",
   "metadata": {},
   "outputs": [],
   "source": [
    "# we can remove an element from dictionary using del\n",
    "del user1_details['age']"
   ]
  },
  {
   "cell_type": "code",
   "execution_count": 14,
   "id": "7c885e28",
   "metadata": {},
   "outputs": [
    {
     "data": {
      "text/plain": [
       "{'name': 'updated_name', 'email': 'user1@mail.com', 'country': 'USA'}"
      ]
     },
     "execution_count": 14,
     "metadata": {},
     "output_type": "execute_result"
    }
   ],
   "source": [
    "user1_details"
   ]
  },
  {
   "cell_type": "code",
   "execution_count": 15,
   "id": "4be2557e",
   "metadata": {},
   "outputs": [
    {
     "data": {
      "text/plain": [
       "dict_keys(['name', 'email', 'country'])"
      ]
     },
     "execution_count": 15,
     "metadata": {},
     "output_type": "execute_result"
    }
   ],
   "source": [
    "# to get key names\n",
    "user1_details.keys()\n"
   ]
  },
  {
   "cell_type": "code",
   "execution_count": 16,
   "id": "0cfffdfc",
   "metadata": {},
   "outputs": [
    {
     "data": {
      "text/plain": [
       "dict_values(['updated_name', 'user1@mail.com', 'USA'])"
      ]
     },
     "execution_count": 16,
     "metadata": {},
     "output_type": "execute_result"
    }
   ],
   "source": [
    "user1_details.values()"
   ]
  },
  {
   "cell_type": "code",
   "execution_count": 17,
   "id": "be5263a9",
   "metadata": {},
   "outputs": [
    {
     "data": {
      "text/plain": [
       "('country', 'USA')"
      ]
     },
     "execution_count": 17,
     "metadata": {},
     "output_type": "execute_result"
    }
   ],
   "source": [
    "user1_details.popitem()"
   ]
  },
  {
   "cell_type": "code",
   "execution_count": 18,
   "id": "fcf362e0",
   "metadata": {},
   "outputs": [
    {
     "data": {
      "text/plain": [
       "{'name': 'updated_name', 'email': 'user1@mail.com'}"
      ]
     },
     "execution_count": 18,
     "metadata": {},
     "output_type": "execute_result"
    }
   ],
   "source": [
    "user1_details"
   ]
  },
  {
   "cell_type": "code",
   "execution_count": null,
   "id": "ea48c764",
   "metadata": {},
   "outputs": [],
   "source": []
  }
 ],
 "metadata": {
  "kernelspec": {
   "display_name": "Python 3 (ipykernel)",
   "language": "python",
   "name": "python3"
  },
  "language_info": {
   "codemirror_mode": {
    "name": "ipython",
    "version": 3
   },
   "file_extension": ".py",
   "mimetype": "text/x-python",
   "name": "python",
   "nbconvert_exporter": "python",
   "pygments_lexer": "ipython3",
   "version": "3.11.5"
  }
 },
 "nbformat": 4,
 "nbformat_minor": 5
}
