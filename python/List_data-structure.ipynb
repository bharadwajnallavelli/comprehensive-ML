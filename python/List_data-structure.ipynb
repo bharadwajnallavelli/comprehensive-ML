{
 "cells": [
  {
   "cell_type": "markdown",
   "id": "59ef29f6",
   "metadata": {},
   "source": [
    "## List"
   ]
  },
  {
   "cell_type": "code",
   "execution_count": 1,
   "id": "7ec24397",
   "metadata": {},
   "outputs": [],
   "source": [
    "# Lists are used to store the multiple data into one variable at once\n",
    "# for example to store the ages of 5 random persons. Instead of creating 5 different variables we can create a list\n",
    "random_people_ages = [10,20,22,34,54]"
   ]
  },
  {
   "cell_type": "code",
   "execution_count": 2,
   "id": "3c15396f",
   "metadata": {},
   "outputs": [
    {
     "name": "stdout",
     "output_type": "stream",
     "text": [
      "Random people ages [10, 20, 22, 34, 54]\n"
     ]
    }
   ],
   "source": [
    "print(\"Random people ages\", random_people_ages)"
   ]
  },
  {
   "cell_type": "code",
   "execution_count": 4,
   "id": "32247715",
   "metadata": {},
   "outputs": [
    {
     "data": {
      "text/plain": [
       "[1, 'person1', 23, 140.87, 1]"
      ]
     },
     "execution_count": 4,
     "metadata": {},
     "output_type": "execute_result"
    }
   ],
   "source": [
    "# A list can store different types of data & can store duplicate elements\n",
    "diff_types_list = [1,\"person1\",23,140.87,1]\n",
    "diff_types_list"
   ]
  },
  {
   "cell_type": "code",
   "execution_count": 5,
   "id": "1540f783",
   "metadata": {},
   "outputs": [
    {
     "data": {
      "text/plain": [
       "10"
      ]
     },
     "execution_count": 5,
     "metadata": {},
     "output_type": "execute_result"
    }
   ],
   "source": [
    "# Accessing list elements\n",
    "# List are ordered and each element is associated with a index to access\n",
    "random_people_ages[0]"
   ]
  },
  {
   "cell_type": "code",
   "execution_count": 6,
   "id": "ae21d0e1",
   "metadata": {},
   "outputs": [
    {
     "data": {
      "text/plain": [
       "22"
      ]
     },
     "execution_count": 6,
     "metadata": {},
     "output_type": "execute_result"
    }
   ],
   "source": [
    "random_people_ages[2]"
   ]
  },
  {
   "cell_type": "code",
   "execution_count": 7,
   "id": "c960e113",
   "metadata": {},
   "outputs": [
    {
     "data": {
      "text/plain": [
       "54"
      ]
     },
     "execution_count": 7,
     "metadata": {},
     "output_type": "execute_result"
    }
   ],
   "source": [
    "# Negative index is allowed in python as -1 refers to last element in a list\n",
    "random_people_ages[-1]"
   ]
  },
  {
   "cell_type": "code",
   "execution_count": 9,
   "id": "5fc298fc",
   "metadata": {},
   "outputs": [
    {
     "data": {
      "text/plain": [
       "[69, 95, 88]"
      ]
     },
     "execution_count": 9,
     "metadata": {},
     "output_type": "execute_result"
    }
   ],
   "source": [
    "# Slicing: accessing a portion of a list (:)\n",
    "random_numbers = [69,95,88,79,15,18,33,46,27,1]\n",
    "# first three elements\n",
    "random_numbers[0:3]"
   ]
  },
  {
   "cell_type": "code",
   "execution_count": 10,
   "id": "abfb837d",
   "metadata": {},
   "outputs": [
    {
     "data": {
      "text/plain": [
       "[18, 33, 46, 27, 1]"
      ]
     },
     "execution_count": 10,
     "metadata": {},
     "output_type": "execute_result"
    }
   ],
   "source": [
    "# items from index 5\n",
    "random_numbers[5:]"
   ]
  },
  {
   "cell_type": "code",
   "execution_count": 11,
   "id": "d6e5fcdb",
   "metadata": {},
   "outputs": [
    {
     "data": {
      "text/plain": [
       "[69, 95, 88, 79, 15, 18, 33, 46, 27, 1]"
      ]
     },
     "execution_count": 11,
     "metadata": {},
     "output_type": "execute_result"
    }
   ],
   "source": [
    "# all items\n",
    "random_numbers[:]"
   ]
  },
  {
   "cell_type": "code",
   "execution_count": 12,
   "id": "aeca645b",
   "metadata": {},
   "outputs": [
    {
     "data": {
      "text/plain": [
       "[69, 95, 88, 79, 15, 18, 33, 46, 27, 1, 101]"
      ]
     },
     "execution_count": 12,
     "metadata": {},
     "output_type": "execute_result"
    }
   ],
   "source": [
    "# Adding an item to the list\n",
    "# append: used to add an element to the end of the list\n",
    "random_numbers.append(101)\n",
    "random_numbers"
   ]
  },
  {
   "cell_type": "code",
   "execution_count": 13,
   "id": "9c565c92",
   "metadata": {},
   "outputs": [],
   "source": [
    "# extend is used to add all the elements of another iterable item\n",
    "lis1 = [564,567,34]\n",
    "random_numbers.extend(lis1)"
   ]
  },
  {
   "cell_type": "code",
   "execution_count": 14,
   "id": "6e3ab8ed",
   "metadata": {},
   "outputs": [
    {
     "data": {
      "text/plain": [
       "[69, 95, 88, 79, 15, 18, 33, 46, 27, 1, 101, 564, 567, 34]"
      ]
     },
     "execution_count": 14,
     "metadata": {},
     "output_type": "execute_result"
    }
   ],
   "source": [
    "random_numbers"
   ]
  },
  {
   "cell_type": "code",
   "execution_count": 15,
   "id": "1862f22e",
   "metadata": {},
   "outputs": [
    {
     "data": {
      "text/plain": [
       "[69, -22, 95, 88, 79, 15, 18, 33, 46, 27, 1, 101, 564, 567, 34]"
      ]
     },
     "execution_count": 15,
     "metadata": {},
     "output_type": "execute_result"
    }
   ],
   "source": [
    "# insert: used to insert an element at an specified index\n",
    "random_numbers.insert(1,-22)\n",
    "random_numbers"
   ]
  },
  {
   "cell_type": "code",
   "execution_count": 16,
   "id": "e1a2c3b9",
   "metadata": {},
   "outputs": [],
   "source": [
    "# List items are mutable which means the value can be changed\n",
    "random_numbers[1] = 22"
   ]
  },
  {
   "cell_type": "code",
   "execution_count": 17,
   "id": "e3ec02a3",
   "metadata": {},
   "outputs": [
    {
     "data": {
      "text/plain": [
       "[69, 22, 95, 88, 79, 15, 18, 33, 46, 27, 1, 101, 564, 567, 34]"
      ]
     },
     "execution_count": 17,
     "metadata": {},
     "output_type": "execute_result"
    }
   ],
   "source": [
    "random_numbers"
   ]
  },
  {
   "cell_type": "code",
   "execution_count": 18,
   "id": "4417b4ee",
   "metadata": {},
   "outputs": [
    {
     "data": {
      "text/plain": [
       "[69, 95, 88, 79, 15, 18, 33, 46, 27, 1, 101, 564, 567, 34]"
      ]
     },
     "execution_count": 18,
     "metadata": {},
     "output_type": "execute_result"
    }
   ],
   "source": [
    "# Deleting an element from the list\n",
    "del random_numbers[1]\n",
    "random_numbers"
   ]
  },
  {
   "cell_type": "code",
   "execution_count": 19,
   "id": "6fd1eb8b",
   "metadata": {},
   "outputs": [
    {
     "data": {
      "text/plain": [
       "[95, 88, 79, 15, 18, 33, 46, 27, 1, 101, 564, 567, 34]"
      ]
     },
     "execution_count": 19,
     "metadata": {},
     "output_type": "execute_result"
    }
   ],
   "source": [
    "# Can also use remove method\n",
    "random_numbers.remove(69)\n",
    "random_numbers"
   ]
  },
  {
   "cell_type": "code",
   "execution_count": 20,
   "id": "de422216",
   "metadata": {},
   "outputs": [
    {
     "name": "stdout",
     "output_type": "stream",
     "text": [
      "95\n",
      "88\n",
      "79\n",
      "15\n",
      "18\n",
      "33\n",
      "46\n",
      "27\n",
      "1\n",
      "101\n",
      "564\n",
      "567\n",
      "34\n"
     ]
    }
   ],
   "source": [
    "# We can iterate over a list\n",
    "for i in random_numbers:\n",
    "    print(i)"
   ]
  },
  {
   "cell_type": "code",
   "execution_count": 21,
   "id": "172705c6",
   "metadata": {},
   "outputs": [
    {
     "data": {
      "text/plain": [
       "True"
      ]
     },
     "execution_count": 21,
     "metadata": {},
     "output_type": "execute_result"
    }
   ],
   "source": [
    "# To check if an element already exist\n",
    "34 in random_numbers"
   ]
  },
  {
   "cell_type": "code",
   "execution_count": 22,
   "id": "6fb968f2",
   "metadata": {},
   "outputs": [
    {
     "data": {
      "text/plain": [
       "13"
      ]
     },
     "execution_count": 22,
     "metadata": {},
     "output_type": "execute_result"
    }
   ],
   "source": [
    "# To find the length of list\n",
    "len(random_numbers)"
   ]
  },
  {
   "cell_type": "code",
   "execution_count": 24,
   "id": "4a4164c6",
   "metadata": {},
   "outputs": [
    {
     "data": {
      "text/plain": [
       "[0, 4, 8, 12, 16, 20, 24, 28, 32, 36]"
      ]
     },
     "execution_count": 24,
     "metadata": {},
     "output_type": "execute_result"
    }
   ],
   "source": [
    "# List comprehension\n",
    "nums = [num * 4 for num in range(10)]\n",
    "nums"
   ]
  },
  {
   "cell_type": "code",
   "execution_count": null,
   "id": "068ecf21",
   "metadata": {},
   "outputs": [],
   "source": []
  }
 ],
 "metadata": {
  "kernelspec": {
   "display_name": "Python 3 (ipykernel)",
   "language": "python",
   "name": "python3"
  },
  "language_info": {
   "codemirror_mode": {
    "name": "ipython",
    "version": 3
   },
   "file_extension": ".py",
   "mimetype": "text/x-python",
   "name": "python",
   "nbconvert_exporter": "python",
   "pygments_lexer": "ipython3",
   "version": "3.10.9"
  }
 },
 "nbformat": 4,
 "nbformat_minor": 5
}
